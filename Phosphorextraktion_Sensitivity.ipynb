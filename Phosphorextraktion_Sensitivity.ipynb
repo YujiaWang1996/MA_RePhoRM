{
 "cells": [
  {
   "cell_type": "code",
   "execution_count": 1,
   "id": "5a86103f",
   "metadata": {},
   "outputs": [],
   "source": [
    "import numpy as np\n",
    "import sympy as sp\n",
    "from SALib.sample import saltelli\n",
    "from SALib.analyze import sobol\n",
    "#input_data = np.asarray([b10,c10,d10,b78,e78,c209,c512,b518,c518,c521,c566,c67,c322,c330,b81,b77,b235,b224])\n",
    "def zielwertsuche(b551,b552,c551,c552):\n",
    "    x = sp.Symbol('x')\n",
    "    f = (b551+b552+x*31/98)/(c551+c552+x) -0.166\n",
    "    x = sp.solve(f)\n",
    "    return x\n",
    "\n",
    "def model1(input_data):\n",
    "    faktor = [input_data[-7],input_data[-6],input_data[-5]]\n",
    "    wk = 2.834\n",
    "    ssk = 0.3\n",
    "    psk = 0.55\n",
    "    b512 = 663\n",
    "    b517 = 65\n",
    "    c23 = input_data[2]\n",
    "    c25 = input_data[2] * wk\n",
    "    c26 = input_data[2] * ssk\n",
    "    c31 = input_data[2] * psk\n",
    "    f78 = input_data[2] * input_data[4]/1000000\n",
    "    RIP = input_data[3] * faktor[0]\n",
    "    g78 = RIP * f78\n",
    "    h78 = f78 * (1-RIP)\n",
    "    c89 = c23+c25+c26+c31\n",
    "    #suspension1\n",
    "    b152 = 0.018\n",
    "    c157 = 1.3\n",
    "    c158 = c89/c157\n",
    "    c160 = c158 * b152\n",
    "    c161 = 1.02\n",
    "    c162 = c160*c161\n",
    "    c225 = g78\n",
    "    d225 = c225 * input_data[5]\n",
    "    c226 = 2088\n",
    "    d226 = c226 * input_data[5]\n",
    "    c227 = c225+c226\n",
    "    d227 = c227 * input_data[5]\n",
    "    c241 = c89+c162\n",
    "    #suspension2\n",
    "    a326 = 0.62634\n",
    "    b326 = 0.37365\n",
    "    c326 = 0.40943\n",
    "    c335 = 1.5\n",
    "    c337 = c335*c23\n",
    "    c387 = c241+c337\n",
    "    c390 =c387*(1-faktor[1])\n",
    "    c392 = c390*a326\n",
    "    c394 = c390*b326\n",
    "    c396 = c394*c326 \n",
    "    c407 = c390\n",
    "    c413 = c396\n",
    "    c411 = c413/input_data[-5]\n",
    "    c409 = c407-c411\n",
    "    c408 = c409/c407\n",
    "    c410 = c411/c407\n",
    "    c415 = c411 * (1-input_data[-5])\n",
    "    c431 = c25\n",
    "    c432 = 0.95\n",
    "    c433 = c162\n",
    "    c434 = c432*c433\n",
    "    c435 = c337\n",
    "    c436 = c415\n",
    "    c437 = 1-input_data[-5]\n",
    "    c438 = c437 * faktor[1] * (c337+c241)\n",
    "    c439 = c431+c434+c435-c436-c438\n",
    "    d518 = input_data[0] * input_data[7]/1000000\n",
    "    e518 = input_data[1] * input_data[8]/1000000\n",
    "    f518 = d518+e518\n",
    "    zwischen1 = input_data[2]*input_data[4]/1000000*input_data[3]*faktor[0]\n",
    "    zwischen2 = input_data[2]*input_data[4]/1000000*(1-input_data[3]*faktor[0])\n",
    "    b538 = (input_data[2]*input_data[4]/1000000-zwischen1*input_data[5]-zwischen2)*(1-faktor[1])\n",
    "    b539 = c31*31/98*(1-input_data[5])*(1-faktor[1])\n",
    "    b540 =b538+b539\n",
    "    b551 = b540\n",
    "    b552 = f518\n",
    "    c427 = faktor[2]*faktor[1] * (c337+c241)\n",
    "    c551 = c23+c26+c31+0.05*c162-c413-c427\n",
    "    c552 =input_data[0]+input_data[1]\n",
    "    c553 = zielwertsuche(b551,b552,c551,c552)[0]\n",
    "    c575 = c551+input_data[0]+input_data[1]+c553\n",
    "    c576 = c575/input_data[-8]*(1-input_data[-8])\n",
    "    c577 = c439\n",
    "    c559 = c553/0.75*0.25\n",
    "    c578 =c559\n",
    "    c579 = c576-c577-c578\n",
    "    e72 =656\n",
    "    f72 = input_data[2]*e72/1000000\n",
    "    g72 = f72*0.233623*faktor[0]\n",
    "    h72 = f72*(1-0.233623*faktor[0])\n",
    "    d220 = f72*0.233623*faktor[0]*0.99\n",
    "    c295 = f72- f72*(1-0.233623*faktor[0])-f72*0.233623*faktor[0]*0.99\n",
    "    b452 =c295*(1-faktor[1])\n",
    "    b624 = b452\n",
    "    f512 = (input_data[0]*b512+input_data[1]*input_data[6])/1000000\n",
    "    c624 = f512\n",
    "    e624 = b624+c624\n",
    "    f624 = c575\n",
    "    g624 =e624/f624*1000000\n",
    "    b686 =g624\n",
    "    e77 =125\n",
    "    f77 = input_data[2]*e77/1000000\n",
    "    g77 = f77*input_data[-3]*faktor[0]\n",
    "    h77 = f77*(1-input_data[-3]*faktor[0])\n",
    "    d224 = f77*input_data[-3]*faktor[0]*input_data[-1]\n",
    "    c300 = f77- f77*(1-input_data[-3]*faktor[0])-f77*input_data[-3]*faktor[0]*input_data[-1]\n",
    "    b457 =c300*(1-faktor[1])\n",
    "    b629 = b457\n",
    "    f517 = (input_data[0]*b517+input_data[1]*47.6)/1000000\n",
    "    c629 = f517\n",
    "    e629 = b629+c629\n",
    "    f629 = c575\n",
    "    g629 =e629/f629*1000000\n",
    "    b687 =g629\n",
    "    e81 =2353\n",
    "    f81 = input_data[2]*e81/1000000\n",
    "    g81 = f81*input_data[-4]*faktor[0]\n",
    "    h81 = f81*(1-input_data[-4]*faktor[0])\n",
    "    d235 = f81*input_data[-4]*faktor[0]*input_data[-2]\n",
    "    c311 = f81- f81*(1-input_data[-4]*faktor[0])-f81*input_data[-4]*faktor[0]*input_data[-2]\n",
    "    b468 =c311*(1-faktor[1])\n",
    "    b633 = b468\n",
    "    f521 = (input_data[0]*2260+input_data[1]*input_data[9])/1000000\n",
    "    c633 = f521\n",
    "    e633 = b633+c633\n",
    "    f633 = c575\n",
    "    g633 =e633/f633*1000000\n",
    "    b689 =g633\n",
    "    c644 = c575\n",
    "    c645 = 0.95\n",
    "    c646 = c644/c645\n",
    "    c647 = 0.05\n",
    "    c648 = c646*c647\n",
    "    c649 = c576-c648\n",
    "    c650 = c649/c646\n",
    "    c655 = c31\n",
    "    c662 = c553\n",
    "    c664 = c655+c662\n",
    "    c666 = c664/c646\n",
    "    \n",
    "    \n",
    "    output = [c162, c411, c579, c664, c649, c646, c666, c650, c408, c410, b686, b687, b689]\n",
    "    return output"
   ]
  },
  {
   "cell_type": "code",
   "execution_count": 2,
   "id": "567deae4",
   "metadata": {},
   "outputs": [
    {
     "data": {
      "text/plain": [
       "[529.2199384615384,\n",
       " 17651.82506809089,\n",
       " 23046.7726047354,\n",
       " 14810.1419608655,\n",
       " 49019.1269163409,\n",
       " 44117.2142247068,\n",
       " 0.335699844632788,\n",
       " 1.11111111111111,\n",
       " 0.6423947650771389,\n",
       " 0.35760523492286117,\n",
       " 460.648287914794,\n",
       " 44.0976835970219,\n",
       " 1284.59654654845]"
      ]
     },
     "execution_count": 2,
     "metadata": {},
     "output_type": "execute_result"
    }
   ],
   "source": [
    "#input_data = np.asarray([b10,c10,d10,b78,e78,c209,c512,b518,c518,c521,c566,c67,c322,c330, b72, b77, b220, b224])\n",
    "model1([17500,7000,8000,0.87583,81618,0.025,1099,70700,84567,1989,0.45,0.9,0.0128,0.4278,0.43789,0.43577,0.95,0.025])"
   ]
  },
  {
   "cell_type": "code",
   "execution_count": 4,
   "id": "7a7ea736",
   "metadata": {},
   "outputs": [
    {
     "data": {
      "text/plain": [
       "[793.8299076923076,\n",
       " 26477.73760213633,\n",
       " 12981.8767699564,\n",
       " 14772.1455370083,\n",
       " 50495.8630010728,\n",
       " 45446.2767009655,\n",
       " 0.325046331830621,\n",
       " 1.11111111111111,\n",
       " 0.6423947650771389,\n",
       " 0.35760523492286117,\n",
       " 447.302924687134,\n",
       " 47.1798341946511,\n",
       " 1251.26966326067]"
      ]
     },
     "execution_count": 4,
     "metadata": {},
     "output_type": "execute_result"
    }
   ],
   "source": [
    "model1([17500,7000,12000,0.87583,81618,0.025,1099,70700,84567,1989,0.45,0.9,0.0128,0.4278,0.43789,0.43577,0.95,0.025])"
   ]
  },
  {
   "cell_type": "code",
   "execution_count": 6,
   "id": "6994dec5",
   "metadata": {},
   "outputs": [
    {
     "name": "stderr",
     "output_type": "stream",
     "text": [
      "C:\\Users\\zhang\\AppData\\Local\\Temp\\ipykernel_28520\\204214929.py:24: DeprecationWarning: `salib.sample.saltelli` will be removed in SALib 1.5. Please use `salib.sample.sobol`\n",
      "  param_values = saltelli.sample(problem, 128)\n"
     ]
    }
   ],
   "source": [
    "#input_data = np.asarray([b10,c10,d10,b78,e78,c209,c512,b518,c518,c521,c566,c67,c322,c330,b72,b77,b220,b224])\n",
    "problem = {\n",
    "    'num_vars': 18,\n",
    "    'names': ['x1', 'x2', 'x3','x4','x5','x6','x7','x8','x9','x10','x11','x12','x13','x14','x15','x16','x17','x18'],\n",
    "    'bounds': [[13500, 21500],\n",
    "                [3000, 11000],\n",
    "                [8000, 16000],\n",
    "                [0.7, 1.0],\n",
    "                [60000, 90000],\n",
    "                [0, 0.15],\n",
    "                [800, 1400],\n",
    "                [60000, 90000],\n",
    "                [75000, 105000],\n",
    "                [1000, 3500],\n",
    "                [0.45, 0.50],\n",
    "                [0.60, 0.95],\n",
    "                [0.001, 0.05],\n",
    "                [0.30, 0.80],\n",
    "                [0.30, 0.60],\n",
    "                [0.30, 0.50],\n",
    "                [0.80, 1.00],\n",
    "                [0.00, 0.15]]\n",
    "}\n",
    "param_values = saltelli.sample(problem, 128)\n"
   ]
  },
  {
   "cell_type": "code",
   "execution_count": 7,
   "id": "324057ba",
   "metadata": {},
   "outputs": [
    {
     "data": {
      "text/plain": [
       "array([[1.35937500e+04, 5.65625000e+03, 1.03437500e+04, ...,\n",
       "        4.52343750e-01, 9.13281250e-01, 5.33203125e-02],\n",
       "       [1.41562500e+04, 5.65625000e+03, 1.03437500e+04, ...,\n",
       "        4.52343750e-01, 9.13281250e-01, 5.33203125e-02],\n",
       "       [1.35937500e+04, 7.46875000e+03, 1.03437500e+04, ...,\n",
       "        4.52343750e-01, 9.13281250e-01, 5.33203125e-02],\n",
       "       ...,\n",
       "       [1.93437500e+04, 5.03125000e+03, 1.05312500e+04, ...,\n",
       "        4.36718750e-01, 8.80468750e-01, 1.30664062e-01],\n",
       "       [1.93437500e+04, 5.03125000e+03, 1.05312500e+04, ...,\n",
       "        4.36718750e-01, 9.08593750e-01, 6.38671875e-02],\n",
       "       [1.93437500e+04, 5.03125000e+03, 1.05312500e+04, ...,\n",
       "        4.36718750e-01, 9.08593750e-01, 1.30664062e-01]])"
      ]
     },
     "execution_count": 7,
     "metadata": {},
     "output_type": "execute_result"
    }
   ],
   "source": [
    "param_values"
   ]
  },
  {
   "cell_type": "code",
   "execution_count": 8,
   "id": "023af074",
   "metadata": {},
   "outputs": [
    {
     "data": {
      "text/plain": [
       "(4864, 18)"
      ]
     },
     "execution_count": 8,
     "metadata": {},
     "output_type": "execute_result"
    }
   ],
   "source": [
    "np.shape(param_values)"
   ]
  },
  {
   "cell_type": "code",
   "execution_count": 9,
   "id": "1266529e",
   "metadata": {
    "scrolled": true
   },
   "outputs": [],
   "source": [
    "Y=[]\n",
    "for i in param_values:\n",
    "    y = model1(i)\n",
    "    Y.append(y)\n",
    "\n"
   ]
  },
  {
   "cell_type": "code",
   "execution_count": 10,
   "id": "aeae768c",
   "metadata": {},
   "outputs": [],
   "source": [
    "Y_ = np.asarray(Y,dtype=float)"
   ]
  },
  {
   "cell_type": "code",
   "execution_count": 11,
   "id": "863f0591",
   "metadata": {
    "scrolled": false
   },
   "outputs": [
    {
     "name": "stdout",
     "output_type": "stream",
     "text": [
      "Ergebnisse der Sensitivitätsanalyse von output: 0\n",
      "\n",
      "\n"
     ]
    },
    {
     "ename": "KeyError",
     "evalue": "'St'",
     "output_type": "error",
     "traceback": [
      "\u001b[1;31m---------------------------------------------------------------------------\u001b[0m",
      "\u001b[1;31mKeyError\u001b[0m                                  Traceback (most recent call last)",
      "Cell \u001b[1;32mIn[11], line 6\u001b[0m\n\u001b[0;32m      3\u001b[0m Si \u001b[38;5;241m=\u001b[39m sobol\u001b[38;5;241m.\u001b[39manalyze(problem, output)\n\u001b[0;32m      5\u001b[0m \u001b[38;5;28mprint\u001b[39m(\u001b[38;5;124m\"\u001b[39m\u001b[38;5;124mErgebnisse der Sensitivitätsanalyse von output: \u001b[39m\u001b[38;5;132;01m%d\u001b[39;00m\u001b[38;5;130;01m\\n\u001b[39;00m\u001b[38;5;130;01m\\n\u001b[39;00m\u001b[38;5;124m\"\u001b[39m\u001b[38;5;241m%\u001b[39mindex)\n\u001b[1;32m----> 6\u001b[0m \u001b[38;5;28;01mfor\u001b[39;00m i \u001b[38;5;129;01min\u001b[39;00m \u001b[38;5;28mrange\u001b[39m(\u001b[38;5;28mlen\u001b[39m(\u001b[43mSi\u001b[49m\u001b[43m[\u001b[49m\u001b[38;5;124;43m'\u001b[39;49m\u001b[38;5;124;43mSt\u001b[39;49m\u001b[38;5;124;43m'\u001b[39;49m\u001b[43m]\u001b[49m)):\n\u001b[0;32m      7\u001b[0m     \u001b[38;5;28mprint\u001b[39m(\u001b[38;5;124m\"\u001b[39m\u001b[38;5;124mGesamtsensitivität von input\u001b[39m\u001b[38;5;132;01m%d\u001b[39;00m\u001b[38;5;124m: \u001b[39m\u001b[38;5;132;01m%f\u001b[39;00m\u001b[38;5;124m\"\u001b[39m \u001b[38;5;241m%\u001b[39m(i,Si[\u001b[38;5;124m'\u001b[39m\u001b[38;5;124mS1\u001b[39m\u001b[38;5;124m'\u001b[39m][i]))\n\u001b[0;32m      8\u001b[0m \u001b[38;5;28mprint\u001b[39m(\u001b[38;5;124m\"\u001b[39m\u001b[38;5;124m--------------------------------------------------------------\u001b[39m\u001b[38;5;130;01m\\n\u001b[39;00m\u001b[38;5;130;01m\\n\u001b[39;00m\u001b[38;5;124m\"\u001b[39m)\n",
      "\u001b[1;31mKeyError\u001b[0m: 'St'"
     ]
    }
   ],
   "source": [
    "for index in range(Y_.shape[1]):\n",
    "    output = Y_[:,index]\n",
    "    Si = sobol.analyze(problem, output)\n",
    "    \n",
    "    print(\"Ergebnisse der Sensitivitätsanalyse von output: %d\\n\\n\"%index)\n",
    "    for i in range(len(Si['St'])):\n",
    "        print(\"Gesamtsensitivität von input%d: %f\" %(i,Si['S1'][i]))\n",
    "    print(\"--------------------------------------------------------------\\n\\n\")"
   ]
  },
  {
   "cell_type": "code",
   "execution_count": null,
   "id": "75371536",
   "metadata": {},
   "outputs": [],
   "source": [
    "##作废\n",
    "\n",
    "import matplotlib.pyplot as plt\n",
    "import seaborn as sns"
   ]
  },
  {
   "cell_type": "code",
   "execution_count": 35,
   "id": "7805baf8",
   "metadata": {},
   "outputs": [
    {
     "data": {
      "text/plain": [
       "numpy.ndarray"
      ]
     },
     "execution_count": 35,
     "metadata": {},
     "output_type": "execute_result"
    }
   ],
   "source": [
    "type(Si['S1'])"
   ]
  },
  {
   "cell_type": "code",
   "execution_count": 28,
   "id": "6a996feb",
   "metadata": {},
   "outputs": [
    {
     "name": "stdout",
     "output_type": "stream",
     "text": [
      "Requirement already satisfied: SALib in c:\\users\\zhang\\anaconda3\\lib\\site-packages (1.4.7)\n",
      "Requirement already satisfied: pandas>=1.1.2 in c:\\users\\zhang\\anaconda3\\lib\\site-packages (from SALib) (1.5.3)\n",
      "Requirement already satisfied: matplotlib>=3.2.2 in c:\\users\\zhang\\anaconda3\\lib\\site-packages (from SALib) (3.3.4)\n",
      "Requirement already satisfied: multiprocess in c:\\users\\zhang\\anaconda3\\lib\\site-packages (from SALib) (0.70.14)\n",
      "Requirement already satisfied: numpy>=1.20.3 in c:\\users\\zhang\\anaconda3\\lib\\site-packages (from SALib) (1.23.5)\n",
      "Requirement already satisfied: scipy>=1.7.3 in c:\\users\\zhang\\anaconda3\\lib\\site-packages (from SALib) (1.10.0)\n",
      "Requirement already satisfied: pillow>=6.2.0 in c:\\users\\zhang\\anaconda3\\lib\\site-packages (from matplotlib>=3.2.2->SALib) (9.4.0)\n",
      "Requirement already satisfied: pyparsing!=2.0.4,!=2.1.2,!=2.1.6,>=2.0.3 in c:\\users\\zhang\\anaconda3\\lib\\site-packages (from matplotlib>=3.2.2->SALib) (3.0.9)\n",
      "Requirement already satisfied: python-dateutil>=2.1 in c:\\users\\zhang\\anaconda3\\lib\\site-packages (from matplotlib>=3.2.2->SALib) (2.8.2)\n",
      "Requirement already satisfied: cycler>=0.10 in c:\\users\\zhang\\anaconda3\\lib\\site-packages (from matplotlib>=3.2.2->SALib) (0.11.0)\n",
      "Requirement already satisfied: kiwisolver>=1.0.1 in c:\\users\\zhang\\anaconda3\\lib\\site-packages (from matplotlib>=3.2.2->SALib) (1.4.4)\n",
      "Requirement already satisfied: pytz>=2020.1 in c:\\users\\zhang\\anaconda3\\lib\\site-packages (from pandas>=1.1.2->SALib) (2022.7)\n",
      "Requirement already satisfied: dill>=0.3.6 in c:\\users\\zhang\\anaconda3\\lib\\site-packages (from multiprocess->SALib) (0.3.6)\n",
      "Requirement already satisfied: six>=1.5 in c:\\users\\zhang\\anaconda3\\lib\\site-packages (from python-dateutil>=2.1->matplotlib>=3.2.2->SALib) (1.16.0)\n",
      "Note: you may need to restart the kernel to use updated packages.\n"
     ]
    }
   ],
   "source": [
    "pip install --upgrade SALib"
   ]
  },
  {
   "cell_type": "code",
   "execution_count": 47,
   "id": "1d39b515",
   "metadata": {},
   "outputs": [
    {
     "data": {
      "text/plain": [
       "(4864, 13)"
      ]
     },
     "execution_count": 47,
     "metadata": {},
     "output_type": "execute_result"
    }
   ],
   "source": [
    "np.shape(Y_)"
   ]
  },
  {
   "cell_type": "code",
   "execution_count": 54,
   "id": "e2556a46",
   "metadata": {},
   "outputs": [
    {
     "data": {
      "text/plain": [
       "(4864, 2)"
      ]
     },
     "execution_count": 54,
     "metadata": {},
     "output_type": "execute_result"
    }
   ],
   "source": [
    "Y.shape\n"
   ]
  },
  {
   "cell_type": "code",
   "execution_count": null,
   "id": "c012cb9f",
   "metadata": {},
   "outputs": [],
   "source": []
  }
 ],
 "metadata": {
  "kernelspec": {
   "display_name": "Python 3 (ipykernel)",
   "language": "python",
   "name": "python3"
  },
  "language_info": {
   "codemirror_mode": {
    "name": "ipython",
    "version": 3
   },
   "file_extension": ".py",
   "mimetype": "text/x-python",
   "name": "python",
   "nbconvert_exporter": "python",
   "pygments_lexer": "ipython3",
   "version": "3.8.3"
  }
 },
 "nbformat": 4,
 "nbformat_minor": 5
}
